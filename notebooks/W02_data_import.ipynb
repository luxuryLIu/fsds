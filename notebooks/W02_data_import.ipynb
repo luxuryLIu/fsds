{
  "cells": [
    {
      "cell_type": "markdown",
      "metadata": {
        "id": "ZcpNxn1fuVDQ"
      },
      "source": [
        "# Data Import\n",
        "\n",
        "## Introduction\n",
        "\n",
        "This notebook shows how to import data into a DuckDB database. It uses the `duckdb` Python package to connect to a DuckDB database and import data from various formats, including CSV, JSON, DataFrame, parquet, GeoJSON, Shapefile, GeoParquet, and more.\n",
        "\n",
        "## Datasets\n",
        "\n",
        "The following datasets are used in this notebook. You don't need to download them, they can be accessed directly from the notebook.\n",
        "\n",
        "- [cities.csv](https://open.gishub.org/data/duckdb/cities.csv)\n",
        "- [countries.csv](https://open.gishub.org/data/duckdb/countries.csv)\n",
        "\n",
        "## Installation\n",
        "\n",
        "Uncomment the following cell to install the required packages if needed."
      ]
    },
    {
      "cell_type": "code",
      "execution_count": null,
      "metadata": {
        "id": "Y0U3Yll_uVDT"
      },
      "outputs": [],
      "source": [
        "# %pip install duckdb leafmap"
      ]
    },
    {
      "cell_type": "markdown",
      "metadata": {
        "id": "OctaJXoduVDT"
      },
      "source": [
        "## Library Import"
      ]
    },
    {
      "cell_type": "code",
      "execution_count": null,
      "metadata": {
        "id": "Tz_gXN6KuVDU"
      },
      "outputs": [],
      "source": [
        "import duckdb\n",
        "import leafmap\n",
        "import pandas as pd"
      ]
    },
    {
      "cell_type": "markdown",
      "metadata": {
        "id": "rLdiUxJGuVDU"
      },
      "source": [
        "## Installing Extensions\n",
        "\n",
        "DuckDB’s Python API provides functions for installing and loading extensions, which perform the equivalent operations to running the `INSTALL` and `LOAD` SQL commands, respectively. An example that installs and loads the [httpfs extension](https://duckdb.org/docs/extensions/httpfs) looks like follows:"
      ]
    },
    {
      "cell_type": "code",
      "execution_count": null,
      "metadata": {
        "id": "oTAB9eWLuVDU"
      },
      "outputs": [],
      "source": [
        "con = duckdb.connect()"
      ]
    },
    {
      "cell_type": "code",
      "execution_count": null,
      "metadata": {
        "id": "q5LhOlk3uVDU"
      },
      "outputs": [],
      "source": [
        "con.install_extension(\"httpfs\")\n",
        "con.load_extension(\"httpfs\")"
      ]
    },
    {
      "cell_type": "code",
      "execution_count": null,
      "metadata": {
        "id": "HJeFupYDuVDV"
      },
      "outputs": [],
      "source": [
        "con.install_extension(\"spatial\")\n",
        "con.load_extension(\"spatial\")"
      ]
    },
    {
      "cell_type": "markdown",
      "metadata": {
        "id": "U_IrgoxXuVDV"
      },
      "source": [
        "## Downloading Sample Data"
      ]
    },
    {
      "cell_type": "code",
      "execution_count": null,
      "metadata": {
        "id": "NjFUQy4iuVDV"
      },
      "outputs": [],
      "source": [
        "url = \"https://open.gishub.org/data/duckdb/cities.zip\"\n",
        "leafmap.download_file(url, unzip=True)"
      ]
    },
    {
      "cell_type": "markdown",
      "metadata": {
        "id": "O381yGoBuVDV"
      },
      "source": [
        "## CSV Files\n",
        "\n",
        "CSV files can be read using the `read_csv` function, called either from within Python or directly from within SQL. By default, the `read_csv` function attempts to auto-detect the CSV settings by sampling from the provided file."
      ]
    },
    {
      "cell_type": "code",
      "execution_count": null,
      "metadata": {
        "id": "U3CXVPHduVDV"
      },
      "outputs": [],
      "source": [
        "# read from a file using fully auto-detected settings\n",
        "con.read_csv('cities.csv')"
      ]
    },
    {
      "cell_type": "code",
      "execution_count": null,
      "metadata": {
        "id": "T8D7xdgDuVDW"
      },
      "outputs": [],
      "source": [
        "# specify options on how the CSV is formatted internally\n",
        "con.read_csv('cities.csv', header=True, sep=',')"
      ]
    },
    {
      "cell_type": "code",
      "execution_count": null,
      "metadata": {
        "id": "cRJRdoN7uVDW"
      },
      "outputs": [],
      "source": [
        "# use the (experimental) parallel CSV reader\n",
        "con.read_csv('cities.csv', parallel=True)"
      ]
    },
    {
      "cell_type": "code",
      "execution_count": null,
      "metadata": {
        "id": "4QQyGpDPuVDW"
      },
      "outputs": [],
      "source": [
        "# directly read a CSV file from within SQL\n",
        "con.sql(\"SELECT * FROM 'cities.csv'\")"
      ]
    },
    {
      "cell_type": "code",
      "execution_count": null,
      "metadata": {
        "id": "fzzOoZEhuVDW"
      },
      "outputs": [],
      "source": [
        "# call read_csv from within SQL\n",
        "con.sql(\"SELECT * FROM read_csv_auto('cities.csv')\")"
      ]
    },
    {
      "cell_type": "markdown",
      "metadata": {
        "id": "ckaZ3Q8YuVDW"
      },
      "source": [
        "## JSON Files\n",
        "\n",
        "JSON files can be read using the `read_json` function, called either from within Python or directly from within SQL. By default, the `read_json` function will automatically detect if a file contains newline-delimited JSON or regular JSON, and will detect the schema of the objects stored within the JSON file."
      ]
    },
    {
      "cell_type": "code",
      "execution_count": null,
      "metadata": {
        "id": "d_d2zBCcuVDW"
      },
      "outputs": [],
      "source": [
        "# read from a single JSON file\n",
        "con.read_json('cities.json')"
      ]
    },
    {
      "cell_type": "code",
      "execution_count": null,
      "metadata": {
        "id": "OKeLPO6kuVDX"
      },
      "outputs": [],
      "source": [
        "# directly read a JSON file from within SQL\n",
        "con.sql(\"SELECT * FROM 'cities.json'\")"
      ]
    },
    {
      "cell_type": "code",
      "execution_count": null,
      "metadata": {
        "id": "E7tuNdrxuVDX"
      },
      "outputs": [],
      "source": [
        "# call read_json from within SQL\n",
        "con.sql(\"SELECT * FROM read_json_auto('cities.json')\")"
      ]
    },
    {
      "cell_type": "markdown",
      "metadata": {
        "id": "OaS0L7HpuVDX"
      },
      "source": [
        "## DataFrames\n",
        "\n",
        "DuckDB is automatically able to query a Pandas DataFrame."
      ]
    },
    {
      "cell_type": "code",
      "execution_count": null,
      "metadata": {
        "id": "z5SqPohvuVDX"
      },
      "outputs": [],
      "source": [
        "df = pd.read_csv('cities.csv')\n",
        "df"
      ]
    },
    {
      "cell_type": "code",
      "execution_count": null,
      "metadata": {
        "id": "GiENg6ukuVDX"
      },
      "outputs": [],
      "source": [
        "con.sql('SELECT * FROM df').fetchall()"
      ]
    },
    {
      "cell_type": "markdown",
      "metadata": {
        "id": "ltz_NYx6uVDX"
      },
      "source": [
        "## Parquet Files\n",
        "\n",
        "Parquet files can be read using the `read_parquet` function, called either from within Python or directly from within SQL."
      ]
    },
    {
      "cell_type": "code",
      "execution_count": null,
      "metadata": {
        "id": "rNvEvKjpuVDX"
      },
      "outputs": [],
      "source": [
        "# read from a single Parquet file\n",
        "con.read_parquet('cities.parquet')"
      ]
    },
    {
      "cell_type": "code",
      "execution_count": null,
      "metadata": {
        "id": "UisIUO3SuVDY"
      },
      "outputs": [],
      "source": [
        "# directly read a Parquet file from within SQL\n",
        "con.sql(\"SELECT * FROM 'cities.parquet'\")"
      ]
    },
    {
      "cell_type": "code",
      "execution_count": null,
      "metadata": {
        "id": "0-9vbQHzuVDY"
      },
      "outputs": [],
      "source": [
        "# call read_parquet from within SQL\n",
        "con.sql(\"SELECT * FROM read_parquet('cities.parquet')\")"
      ]
    },
    {
      "cell_type": "markdown",
      "metadata": {
        "id": "kyua5AEpuVDY"
      },
      "source": [
        "## GeoJSON Files"
      ]
    },
    {
      "cell_type": "code",
      "execution_count": null,
      "metadata": {
        "id": "T46toKgvuVDY"
      },
      "outputs": [],
      "source": [
        "con.sql('SELECT * FROM ST_Drivers()')"
      ]
    },
    {
      "cell_type": "code",
      "execution_count": null,
      "metadata": {
        "id": "-35RtezruVDY"
      },
      "outputs": [],
      "source": [
        "con.sql(\"SELECT * FROM ST_Read('cities.geojson')\")"
      ]
    },
    {
      "cell_type": "code",
      "execution_count": null,
      "metadata": {
        "id": "WV69qNLSuVDY"
      },
      "outputs": [],
      "source": [
        "con.sql(\"FROM ST_Read('cities.geojson')\")"
      ]
    },
    {
      "cell_type": "code",
      "execution_count": null,
      "metadata": {
        "id": "moq78WqPuVDY"
      },
      "outputs": [],
      "source": [
        "con.sql(\"CREATE TABLE cities AS SELECT * FROM ST_Read('cities.geojson')\")"
      ]
    },
    {
      "cell_type": "code",
      "execution_count": null,
      "metadata": {
        "id": "2MJc8n8XuVDZ"
      },
      "outputs": [],
      "source": [
        "con.table('cities')"
      ]
    },
    {
      "cell_type": "code",
      "execution_count": null,
      "metadata": {
        "id": "yGkiZADPuVDZ"
      },
      "outputs": [],
      "source": [
        "con.sql(\"SELECT * FROM cities\")"
      ]
    },
    {
      "cell_type": "markdown",
      "metadata": {
        "id": "vhqVpvhpuVDZ"
      },
      "source": [
        "## Shapefiles"
      ]
    },
    {
      "cell_type": "code",
      "execution_count": null,
      "metadata": {
        "id": "XSDQb4J3uVDa"
      },
      "outputs": [],
      "source": [
        "con.sql(\"SELECT * FROM ST_Read('cities.shp')\")"
      ]
    },
    {
      "cell_type": "code",
      "execution_count": null,
      "metadata": {
        "id": "K3eP9uC0uVDa"
      },
      "outputs": [],
      "source": [
        "con.sql(\"FROM ST_Read('cities.shp')\")"
      ]
    },
    {
      "cell_type": "code",
      "execution_count": null,
      "metadata": {
        "id": "1D5em2skuVDa"
      },
      "outputs": [],
      "source": [
        "con.sql(\n",
        "    \"\"\"\n",
        "        CREATE TABLE IF NOT EXISTS cities2 AS\n",
        "        SELECT * FROM ST_Read('cities.shp')\n",
        "        \"\"\"\n",
        ")"
      ]
    },
    {
      "cell_type": "code",
      "execution_count": null,
      "metadata": {
        "id": "EalhxixauVDa"
      },
      "outputs": [],
      "source": [
        "con.table('cities2')"
      ]
    },
    {
      "cell_type": "code",
      "execution_count": null,
      "metadata": {
        "id": "Bup4GeR0uVDb"
      },
      "outputs": [],
      "source": [
        "con.sql('SELECT * FROM cities2')"
      ]
    },
    {
      "cell_type": "markdown",
      "metadata": {
        "id": "tN1VzUGUuVDb"
      },
      "source": [
        "## GeoParquet Files"
      ]
    },
    {
      "cell_type": "code",
      "execution_count": null,
      "metadata": {
        "id": "zG-k5Y2duVDb"
      },
      "outputs": [],
      "source": [
        "con.sql(\"SELECT * FROM 'cities.parquet'\")"
      ]
    },
    {
      "cell_type": "code",
      "execution_count": null,
      "metadata": {
        "id": "DCQyVEZ_uVDb"
      },
      "outputs": [],
      "source": [
        "con.sql(\n",
        "    \"\"\"\n",
        "CREATE TABLE IF NOT EXISTS cities3 AS\n",
        "SELECT * EXCLUDE geometry, ST_GeomFromWKB(geometry)\n",
        "AS geometry FROM 'cities.parquet'\n",
        "\"\"\"\n",
        ")"
      ]
    },
    {
      "cell_type": "code",
      "execution_count": null,
      "metadata": {
        "id": "P7TT7yLhuVDc"
      },
      "outputs": [],
      "source": [
        "con.table('cities3')"
      ]
    },
    {
      "cell_type": "code",
      "execution_count": null,
      "metadata": {
        "id": "0JwTTL6luVDc"
      },
      "outputs": [],
      "source": [
        "con.sql(\n",
        "    \"\"\"\n",
        "CREATE TABLE IF NOT EXISTS country AS\n",
        "SELECT * EXCLUDE geometry, ST_GeomFromWKB(geometry) FROM\n",
        "        's3://us-west-2.opendata.source.coop/google-research-open-buildings/v2/geoparquet-admin1/country=SSD/*.parquet'\n",
        "\"\"\"\n",
        ")"
      ]
    },
    {
      "cell_type": "code",
      "execution_count": null,
      "metadata": {
        "id": "y714yQEauVDc"
      },
      "outputs": [],
      "source": [
        "con.table('country')"
      ]
    },
    {
      "cell_type": "code",
      "execution_count": null,
      "metadata": {
        "id": "x7mdtjMnuVDd"
      },
      "outputs": [],
      "source": [
        "con.sql('SELECT COUNT(*) FROM country')"
      ]
    },
    {
      "cell_type": "markdown",
      "metadata": {
        "id": "gBGPJlGTuVDd"
      },
      "source": [
        "## References\n",
        "\n",
        "- [DuckDB Data Ingestion](https://duckdb.org/docs/api/python/data_ingestion)"
      ]
    }
  ],
  "metadata": {
    "kernelspec": {
      "display_name": "geo",
      "language": "python",
      "name": "python3"
    },
    "language_info": {
      "codemirror_mode": {
        "name": "ipython",
        "version": 3
      },
      "file_extension": ".py",
      "mimetype": "text/x-python",
      "name": "python",
      "nbconvert_exporter": "python",
      "pygments_lexer": "ipython3",
      "version": "3.11.5"
    },
    "colab": {
      "provenance": []
    }
  },
  "nbformat": 4,
  "nbformat_minor": 0
}