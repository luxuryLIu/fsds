{
 "cells": [
  {
   "cell_type": "markdown",
   "id": "beba2f10-20af-413e-8a54-447697e64e62",
   "metadata": {},
   "source": [
    "## Practical 5: Objects\n",
    "\n",
    "From Functions to Classes\n",
    "\n",
    "This is a very challenging notebook because it takes you *both* through\n",
    "the process of building a function incrementally *and* through a\n",
    "‘simple’ example of how Python classes actually work. You will need to\n",
    "understand these two very different elements in order to make the most\n",
    "of the remaining 6 weeks of term, because we both improve our code\n",
    "incrementally *and* make use of objects and their inheritances\n",
    "extensively. You also get an extra chance to revisit the differences\n",
    "between LoLs and DoLs because you will undoubtedly encounter and make\n",
    "use of these data structures even *after* you become a skillfull Python\n",
    "programmer.\n",
    "\n",
    "> **Warning**\n",
    ">\n",
    "> This is a very challenging practical and you should do your best to\n",
    "> ensure that you actually understand what you have done and why.\n",
    "\n",
    "> **Group Sign-Up**\n",
    ">\n",
    "> You should now make it a priority [Sign\n",
    "> Up](https://forms.office.com/e/2ij0sWHnpR)!\n",
    "\n",
    "## 1. Why ‘Obvious’ is Not Always ‘Right’ (Revisited)\n",
    "\n",
    "Practical 3 is hard, so I want to provide *another* chance for the\n",
    "concepts to bed in before we use them in an *object-oriented way through\n",
    "Pandas*. Yes, Week 5 will show how we combine concepts covered over the\n",
    "preceding two weeks in *practice* to ‘do data science’.\n",
    "\n",
    "First, remember the finding from last week: if we don’t really care\n",
    "about column order, then a dictionary of lists is a nice way to handle\n",
    "data. And why should we care about column order? With our CSV file we\n",
    "saw what a pain it was to fix things when even a tiny thing like the\n",
    "layout of the columns changed. But if, instead, we could just reference\n",
    "the ‘Description’ column in the data set then it doesn’t matter where\n",
    "that column actually is *and* we would know that all the descriptions\n",
    "would be *text*, while all the populations or prices would be *numbers*.\n",
    "Why is that?\n",
    "\n",
    "> **🔗 Connections**\n",
    ">\n",
    "> This task briefly recaps the final part of the previous practical and\n",
    "> builds on the [DOLs to\n",
    "> Data](https://jreades.github.io/fsds/sessions/week3.html#lectures) and\n",
    "> [Functions](https://jreades.github.io/fsds/sessions/week4.html#lectures)\n",
    "> lectures.\n",
    "\n",
    "### 1.1 The Way That Doesn’t Work\n",
    "\n",
    "Recall that this is how four rows of ‘data’ for city sizes organised by\n",
    "*row* as a list-of-lists look:"
   ]
  },
  {
   "cell_type": "code",
   "execution_count": 2,
   "id": "8b6ef381",
   "metadata": {},
   "outputs": [],
   "source": [
    "myData = [\n",
    "    ['id', 'Name', 'Rank', 'Longitude', 'Latitude', 'Population'], \n",
    "    ['1', 'Greater London', '1', '-18162.92767', '6711153.709', '9787426'], \n",
    "    ['2', 'Greater Manchester', '2', '-251761.802', '7073067.458', '2553379'], \n",
    "    ['3', 'West Midlands', '3', '-210635.2396', '6878950.083', '2440986']\n",
    "]"
   ]
  },
  {
   "cell_type": "markdown",
   "id": "384e1d43-7a71-4146-81b4-64e2f4c475a8",
   "metadata": {},
   "source": [
    "To print out a list of every city in the data set *when* we don’t know\n",
    "where the `Name` column is in the file we have to jump through some\n",
    "hoops:"
   ]
  },
  {
   "cell_type": "code",
   "execution_count": 3,
   "id": "8a16f838",
   "metadata": {},
   "outputs": [
    {
     "name": "stdout",
     "output_type": "stream",
     "text": [
      "The cities in the data set are: Greater London, Greater Manchester, West Midlands\n"
     ]
    }
   ],
   "source": [
    "cities = []\n",
    "\n",
    "col    = myData[0].index('Name')\n",
    "for i in range(1, len(myData)):\n",
    "    cities.append(myData[i][col])\n",
    "\n",
    "print(\"The cities in the data set are: \" + \", \".join(cities))"
   ]
  },
  {
   "cell_type": "markdown",
   "id": "ffadf04d-77b0-4321-a88c-46413b6b160a",
   "metadata": {},
   "source": [
    "And it’s the same kind of faff if we want to find out if `Edinburgh` is\n",
    "included in the data set:"
   ]
  },
  {
   "cell_type": "code",
   "execution_count": 4,
   "id": "42f15d52",
   "metadata": {},
   "outputs": [
    {
     "name": "stdout",
     "output_type": "stream",
     "text": [
      "1\n",
      "Didn't find Edinburgh in the data set.\n"
     ]
    }
   ],
   "source": [
    "col   = myData[0].index('Name')\n",
    "print(col)\n",
    "found = False\n",
    "for i in range(1, len(myData)):\n",
    "    if myData[i][col] == 'Edinburgh':\n",
    "        print(\"Found Edinburgh in the data set!\")\n",
    "        found = True\n",
    "        break\n",
    "if found == False:\n",
    "    print(\"Didn't find Edinburgh in the data set.\")"
   ]
  },
  {
   "cell_type": "markdown",
   "id": "2c884d24-63a1-411f-b122-52c7ad722d0a",
   "metadata": {},
   "source": [
    "### 1.2 The Way That Does Work\n",
    "\n",
    "Compare that code to how it works for a dictionary-of-lists organised by\n",
    "*column*. Now try printing out the cities in the data:"
   ]
  },
  {
   "cell_type": "code",
   "execution_count": 5,
   "id": "238a6e3d",
   "metadata": {},
   "outputs": [],
   "source": [
    "myData = {\n",
    "    'id'         : [0, 1, 2, 3, 4, 5],\n",
    "    'Name'       : ['Greater London', 'Greater Manchester', 'Birmingham','Edinburgh','Inverness','Lerwick'],\n",
    "    'Rank'       : [1, 2, 3, 4, 5, 6],\n",
    "    'Longitude'  : [-0.128, -2.245, -1.903, -3.189, -4.223, -1.145],\n",
    "    'Latitude'   : [51.507, 53.479, 52.480, 55.953, 57.478, 60.155],\n",
    "    'Population' : [9787426, 2705000, 1141816, 901455, 70000, 6958],\n",
    "}"
   ]
  },
  {
   "cell_type": "markdown",
   "id": "c086197f-1daa-4e4b-80b5-437fd5419b7d",
   "metadata": {},
   "source": [
    "To print out a list of every city in the data set:"
   ]
  },
  {
   "cell_type": "code",
   "execution_count": 6,
   "id": "86d9f4e3",
   "metadata": {},
   "outputs": [
    {
     "name": "stdout",
     "output_type": "stream",
     "text": [
      "Greater London, Greater Manchester, Birmingham, Edinburgh, Inverness, Lerwick\n"
     ]
    }
   ],
   "source": [
    "print(\", \".join(myData['Name']))"
   ]
  },
  {
   "cell_type": "markdown",
   "id": "0285965b-898a-40a8-9032-353213f8f03c",
   "metadata": {},
   "source": [
    "To find out if `Edinburgh` is included in the list of data:"
   ]
  },
  {
   "cell_type": "code",
   "execution_count": 7,
   "id": "2d282266",
   "metadata": {},
   "outputs": [
    {
     "name": "stdout",
     "output_type": "stream",
     "text": [
      "Found Edinburgh in the data set!\n"
     ]
    }
   ],
   "source": [
    "if 'Edinburgh' in myData['Name']:\n",
    "    print(\"Found Edinburgh in the data set!\")\n",
    "else:\n",
    "    print(\"Didn't find Edinburgh in the data set.\")"
   ]
  },
  {
   "cell_type": "markdown",
   "id": "6675b19a-81b2-4d83-8104-a2e9404b7f27",
   "metadata": {},
   "source": [
    "See how even basic questions like “Is Edinburgh in our list of data?”\n",
    "are suddenly easy to answer? We no longer need to loop over the entire\n",
    "data set in order to find one data point. In addition, we know that\n",
    "everything in the ‘Name’ column will be a string, and that everything in\n",
    "the ‘Longitude’ column is a float, while the ‘Population’ column\n",
    "contains integers. So that’s made life easier already. But let’s test\n",
    "this out and see how it works.\n",
    "\n",
    "## 2. Appending a Column\n",
    "\n",
    "### 2.1 Calculate Mean\n",
    "\n",
    "Let’s start by calculating the sample mean (use Google:\n",
    "`Python numpy mean...`):"
   ]
  },
  {
   "cell_type": "code",
   "execution_count": 8,
   "id": "736aff5b",
   "metadata": {},
   "outputs": [
    {
     "name": "stdout",
     "output_type": "stream",
     "text": [
      "City distribution has a mean of 2,435,442.\n"
     ]
    }
   ],
   "source": [
    "import numpy as np\n",
    "# Use numpy functions to calculate mean and standard deviation\n",
    "mean = np.mean(myData['Population'])\n",
    "print(f\"City distribution has a mean of {mean:,.0f}.\")"
   ]
  },
  {
   "cell_type": "markdown",
   "id": "f10a2b5b-2d5d-4a8d-b71c-0c1f2d612287",
   "metadata": {},
   "source": [
    "### 2.2 Calculate Standard Deviation\n",
    "\n",
    "> **Difficulty level: Low-ish.**\n",
    "\n",
    "Now let’s do the standard deviation:\n",
    "\n",
    "##### 2.2.0.1 Question"
   ]
  },
  {
   "cell_type": "code",
   "execution_count": 9,
   "id": "b9154632-65a0-4bf6-8460-be8c1a311f64",
   "metadata": {},
   "outputs": [
    {
     "name": "stdout",
     "output_type": "stream",
     "text": [
      "City distribution has a standard deviation of 3,406,947.93.\n"
     ]
    }
   ],
   "source": [
    "import numpy as np\n",
    "# Use numpy functions to calculate mean and standard deviation\n",
    "std  = np.std(myData['Population'])\n",
    "\n",
    "print(f\"City distribution has a standard deviation of {std:,.2f}.\")"
   ]
  },
  {
   "cell_type": "markdown",
   "id": "a5210176-8a7b-46cb-8ab1-2d4f2d8f78fa",
   "metadata": {},
   "source": [
    "So the `numpy` package gives us a way to calculate the mean and standard\n",
    "deviation *quickly* and without having to reinvent the wheel. The other\n",
    "potentially new thing here is `{std:,.2f}`. This is about [string\n",
    "formatting](https://www.w3schools.com/python/ref_string_format.asp) and\n",
    "the main thing to recognise is that this means ‘format this float with\n",
    "commas separating the thousands/millions and 2 digits to the right’. The\n",
    "link I’ve provided uses the slightly older approach of `<str>.format()`\n",
    "but the formatting approach is the same.\n",
    "\n",
    "### 2.3 For Loops Without For Loops\n",
    "\n",
    "> **Difficulty level: Medium.**\n",
    "\n",
    "Now we’re going to see something called a **List Comprehension**.\n",
    "\n",
    "In Python you will see code like this a lot: `[x for x in list]`. This\n",
    "syntax is known as a ‘list comprehension’ and is basically a `for` loop\n",
    "on one line with the output being assigned to a list. So we can apply an\n",
    "operation (converting to a string, subtracting a value, etc.) to every\n",
    "item in a list without writing out a full for loop.\n",
    "\n",
    "Here’s a quick example just to show you what’s going on:"
   ]
  },
  {
   "cell_type": "markdown",
   "id": "defd4207",
   "metadata": {},
   "source": []
  },
  {
   "cell_type": "code",
   "execution_count": 10,
   "id": "f49dd380",
   "metadata": {},
   "outputs": [
    {
     "name": "stdout",
     "output_type": "stream",
     "text": [
      "[0, 1, 4, 9, 16, 25, 36, 49, 64, 81]\n"
     ]
    }
   ],
   "source": [
    "demo = range(0,10) # <- a *range* of numbers between 0 and 9 (stop at 10)\n",
    "print([x**2 for x in demo]) # square every element of demo"
   ]
  },
  {
   "cell_type": "markdown",
   "id": "5da7dab7-9af6-497b-b96c-feee1c48ccc7",
   "metadata": {},
   "source": [
    "Now let’s apply this to our problem. We calculated the the mean and\n",
    "standard deviation above, so now we want to apply the z-score formula to\n",
    "every element of the Population list… Remember that the format for the\n",
    "z-score (when dealing with a sample) is:\n",
    "\n",
    "$$\n",
    "z = \\frac{x - \\bar{x}}{s}\n",
    "$$\n",
    "\n",
    "And the population standard deviation (by which I mean, if you are\n",
    "dealing with *all* the data, and not a subsample as we are here) is:\n",
    "\n",
    "$$\n",
    "z = \\frac{x - \\mu}{\\sigma}\n",
    "$$\n",
    "\n",
    "##### 2.3.0.1 Question"
   ]
  },
  {
   "cell_type": "code",
   "execution_count": 15,
   "id": "18c03a7d-22e5-4c3c-a4b8-a66a50444e8a",
   "metadata": {},
   "outputs": [
    {
     "name": "stdout",
     "output_type": "stream",
     "text": [
      "['2.158', '0.079', '-0.380', '-0.450', '-0.694', '-0.713']\n"
     ]
    }
   ],
   "source": [
    "rs = [(x - mean)/std\n",
    "\n",
    "for x in myData['Population']] # rs == result set\n",
    "print([f\"{x:.3f}\" for x in rs])"
   ]
  },
  {
   "cell_type": "markdown",
   "id": "c9b587dc-5d39-4b36-a7d7-6cccc2954d2a",
   "metadata": {},
   "source": [
    "### 2.4 Appending\n",
    "\n",
    "> **Difficulty level: trivial**\n",
    "\n",
    "And now let’s add it to the data set:"
   ]
  },
  {
   "cell_type": "code",
   "execution_count": 12,
   "id": "9353cbf9",
   "metadata": {},
   "outputs": [
    {
     "name": "stdout",
     "output_type": "stream",
     "text": [
      "[2.1579383252868527, 0.0791199354729932, -0.3797024575689938, -0.45025269939207097, -0.6942995760276591, -0.7128035277711219]\n"
     ]
    }
   ],
   "source": [
    "myData['Std. Population'] = rs\n",
    "print(myData['Std. Population'])"
   ]
  },
  {
   "cell_type": "markdown",
   "id": "195fce45-4486-409b-b329-a787e88dde97",
   "metadata": {},
   "source": [
    "And just to show how everything is in a single data structure:"
   ]
  },
  {
   "cell_type": "code",
   "execution_count": 13,
   "id": "bb3153be",
   "metadata": {},
   "outputs": [
    {
     "name": "stdout",
     "output_type": "stream",
     "text": [
      "Greater London has a population of 9,787,426 and standardised score of 2.158\n",
      "Greater Manchester has a population of 2,705,000 and standardised score of 0.079\n",
      "Birmingham has a population of 1,141,816 and standardised score of -0.380\n",
      "Edinburgh has a population of 901,455 and standardised score of -0.450\n",
      "Inverness has a population of 70,000 and standardised score of -0.694\n",
      "Lerwick has a population of 6,958 and standardised score of -0.713\n"
     ]
    }
   ],
   "source": [
    "for c in myData['Name']:\n",
    "    idx = myData['Name'].index(c)\n",
    "    print(f\"{c} has a population of {myData['Population'][idx]:,} and standardised score of {myData['Std. Population'][idx]:.3f}\")"
   ]
  },
  {
   "cell_type": "markdown",
   "id": "cc8b8af2-b4db-46bf-b33f-9f3f4dd53e05",
   "metadata": {},
   "source": [
    "## 3. ‘Functionalising’\n",
    "\n",
    "Let’s start trying to pull what we’ve learned over the past two weeks\n",
    "together by creating a a set of functions that will help us to:\n",
    "\n",
    "1.  Download a file from a URL (checking if it has already *been*\n",
    "    downloaded to save bandwidth).\n",
    "2.  Parse it as a CSV file and…\n",
    "3.  Convert it to a Dictionary-of-Lists\n",
    "4.  Perform some simple calculations using the resulting data.\n",
    "\n",
    "To be honest, there’s not going to be much about writing our *own*\n",
    "objects here, but we will be making use of them and, conceptually, an\n",
    "understanding of objects and classes is going to be super-useful for\n",
    "understanding what we’re doing in the remainder of the term!\n",
    "\n",
    "### 3.1 Downloading from a URL\n",
    "\n",
    "Let’s focus on the first part *first* because that’s the precondition\n",
    "for everything else. If we can get the ‘download a file from a URL’\n",
    "working then the rest will gradually fall into place through *iterative*\n",
    "improvments!\n",
    "\n",
    "#### 3.1.1 Finding an Existing Answer\n",
    "\n",
    "> **Difficulty level: Low**\n",
    "\n",
    "First, let’s be sensibly lazy–we’ve already written code to read a file\n",
    "from the Internet and turn it into a list of lists. So I’ve copy+pasted\n",
    "that into the code block below since we’re going to start from this\n",
    "point; however, just to help you check your own understanding, I’ve\n",
    "removed a few bits and replaced them with `??`. Sorry, it’s good\n",
    "practice. 😈\n",
    "\n",
    "##### 3.1.1.1 Question"
   ]
  },
  {
   "cell_type": "code",
   "execution_count": 16,
   "id": "b311df42-590e-47e7-854a-30141dd6f280",
   "metadata": {},
   "outputs": [
    {
     "name": "stdout",
     "output_type": "stream",
     "text": [
      "urlData has 11 rows and 4 columns.\n",
      "['Bangor', '18808', '53.228', '-4.128']\n"
     ]
    }
   ],
   "source": [
    "from urllib.request import urlopen\n",
    "import csv\n",
    "\n",
    "url = \"https://raw.githubusercontent.com/jreades/fsds/master/data/src/Wikipedia-Cities-simple.csv\"\n",
    "\n",
    "urlData = [] # Somewhere to store the data\n",
    "\n",
    "response = urlopen(url) # Get the data using the urlopen function\n",
    "csvfile  = csv.reader(response.read().decode('utf-8').splitlines()) # Pass it over to the reader\n",
    "\n",
    "for row in csvfile:\n",
    "    urlData.append(row)\n",
    "\n",
    "print(\"urlData has \" + str(len(urlData)) + \" rows and \" + str(len(urlData[0])) + \" columns.\")\n",
    "print(urlData[-1]) # Check it worked!"
   ]
  },
  {
   "cell_type": "markdown",
   "id": "851237a8-edab-4f18-9de0-1ebb2270a8bb",
   "metadata": {},
   "source": [
    "You should get:\n",
    "\n",
    "<code>urlData has 11 rows and 4 columns.</code> <br /> <code>\\[‘Bangor’,\n",
    "‘18808’, ‘53.228’, ‘-4.128’\\]</code>\n",
    "\n",
    "#### 3.1.2 Getting Organised\n",
    "\n",
    "> **Difficulty level: Low**\n",
    "\n",
    "Let’s take the code above and modify it so that it is:\n",
    "\n",
    "1.  A function that takes two arguments: a URL; and a destination\n",
    "    filename.\n",
    "2.  Implemented as a function that checks if a file exists already\n",
    "    before downloading it again.\n",
    "\n",
    "You will find that the `os` module helps here because of the `path`\n",
    "function. And you will [need to\n",
    "Google](https://lmgtfy.app/?q=check+if+file+exists+python) how to test\n",
    "if a file exists. I would normally select a StackOverflow link in the\n",
    "results list over anything else because there will normally be an\n",
    "*explanation* included of why a particular answer is a ‘good one’. I\n",
    "also look at which answers got the most votes (not always the same as\n",
    "the one that was the ‘accepted answer’). In this particular case, I also\n",
    "found [this\n",
    "answer](https://careerkarma.com/blog/python-check-if-file-exists/)\n",
    "useful.\n",
    "\n",
    "I would start by setting my inputs:"
   ]
  },
  {
   "cell_type": "code",
   "execution_count": 19,
   "id": "fa872a4a",
   "metadata": {},
   "outputs": [
    {
     "name": "stdout",
     "output_type": "stream",
     "text": [
      "data/Wikipedia-Cities.csv\n"
     ]
    }
   ],
   "source": [
    "import os\n",
    "url = \"https://raw.githubusercontent.com/jreades/fsds/master/data/src/Wikipedia-Cities-simple.csv\"\n",
    "out = os.path.join('data','Wikipedia-Cities.csv') # Print `out` if you aren't sure what this has done!\n",
    "print(out)\n"
   ]
  },
  {
   "cell_type": "markdown",
   "id": "5b74a544-3508-406a-8e05-e6ae551f02f2",
   "metadata": {},
   "source": [
    "#### 3.1.3 Sketching the Function\n",
    "\n",
    "> **Difficulty level: Low, if you’ve watched the videos…**\n",
    "\n",
    "Then I would sketch out how my function will work using comments. And\n",
    "the simplest thing to start with is checking whether the file has\n",
    "already been downloaded:\n",
    "\n",
    "##### 3.1.3.1 Question"
   ]
  },
  {
   "cell_type": "code",
   "execution_count": 20,
   "id": "7c38ad3e-447b-4a2b-a340-8c6e089f6c2b",
   "metadata": {},
   "outputs": [
    {
     "name": "stdout",
     "output_type": "stream",
     "text": [
      "data/Wikipedia-Cities.csv *not* found!\n"
     ]
    }
   ],
   "source": [
    "from urllib.request import urlopen\n",
    "\n",
    "def get_url(src, dest):\n",
    "    \n",
    "    # Check if dest exists -- if it does\n",
    "    # then we can skip downloading the file,\n",
    "    # otherwise we have to download it!\n",
    "    if os.path.isfile(dest):\n",
    "        print(f\"{dest} found!\")\n",
    "    else:\n",
    "        print(f\"{dest} *not* found!\")\n",
    "        \n",
    "get_url(url, out)"
   ]
  },
  {
   "cell_type": "markdown",
   "id": "2c6b64ef-f59b-446f-ac09-e14e1abc5e8c",
   "metadata": {},
   "source": [
    "#### 3.1.4 Fleshing Out the Function\n",
    "\n",
    "> **Difficulty level: Medium**\n",
    ">\n",
    "> If you really explore what’s going on in the function rather than just\n",
    "> running it and moving on.\n",
    "\n",
    "I would then flesh out the code so that it downloads the file if it\n",
    "isn’t found and then, either way, returns the *local* file path for our\n",
    "CSV reader to extract:"
   ]
  },
  {
   "cell_type": "code",
   "execution_count": 21,
   "id": "c58be40e",
   "metadata": {},
   "outputs": [
    {
     "name": "stdout",
     "output_type": "stream",
     "text": [
      "data/Wikipedia-Cities.csv not found, downloading!\n",
      "Data written to data/Wikipedia-Cities.csv!\n"
     ]
    }
   ],
   "source": [
    "def get_url(src, dest):\n",
    "    \n",
    "    # Check if dest does *not* exist -- that\n",
    "    # would mean we had to download it!\n",
    "    if os.path.isfile(dest):\n",
    "        print(f\"{dest} found locally!\")\n",
    "    else:\n",
    "        print(f\"{dest} not found, downloading!\")\n",
    "        \n",
    "        # Get the data using the urlopen function\n",
    "        response = urlopen(src) \n",
    "        filedata = response.read().decode('utf-8')\n",
    "        \n",
    "        # Extract the part of the dest(ination) that is *not*\n",
    "        # the actual filename--have a look at how \n",
    "        # os.path.split works using `help(os.path.split)`\n",
    "        path = list(os.path.split(dest)[:-1])\n",
    "        \n",
    "        # Create any missing directories in dest(ination) path\n",
    "        # -- os.path.join is the reverse of split (as you saw above)\n",
    "        # but it doesn't work with lists... so I had to google how \n",
    "        # to use the 'splat' operator! os.makedirs creates missing \n",
    "        # directories in a path automatically.\n",
    "        if len(path) >= 1 and path[0] != '':\n",
    "            os.makedirs(os.path.join(*path), exist_ok=True)\n",
    "        \n",
    "        with open(dest, 'w') as f:\n",
    "            f.write(filedata)\n",
    "            \n",
    "        print(f\"Data written to {dest}!\")\n",
    "    \n",
    "    return dest\n",
    "        \n",
    "# Using the `return contents` line we make it easy to \n",
    "# see what our function is up to.\n",
    "src = get_url(url, out)"
   ]
  },
  {
   "cell_type": "markdown",
   "id": "3cb79905-56a5-4dde-ad42-d7955cd7e4b9",
   "metadata": {},
   "source": [
    "### 3.2 Decorating!\n",
    "\n",
    "Let’s now look into simplifying this code using a dectorator! Our\n",
    "function has become a bit unwieldy and we want to look at how we can\n",
    "simplify that.\n",
    "\n",
    "The ‘obvious’ (i.e. not obvious) way to do this is to implement the\n",
    "check for a local copy as a decorator on the downloading function. So we\n",
    "have a function that downloads, and a decorator function that checks if\n",
    "the download should even be triggered."
   ]
  },
  {
   "cell_type": "code",
   "execution_count": 22,
   "id": "1b8256d9",
   "metadata": {},
   "outputs": [
    {
     "name": "stdout",
     "output_type": "stream",
     "text": [
      "data/Wikipedia-Cities.csv found locally!\n"
     ]
    }
   ],
   "source": [
    "from functools import wraps\n",
    "def check_cache(f):\n",
    "    @wraps(f)\n",
    "    def wrapper(*args, **kwargs):\n",
    "        src  = args[0]\n",
    "        dest = args[1]\n",
    "        if os.path.isfile(dest):\n",
    "            print(f\"{dest} found locally!\")\n",
    "            return(dest)\n",
    "        else:\n",
    "            print(f\"{dest} not found, downloading!\")\n",
    "            return(f(src, dest))\n",
    "    return wrapper\n",
    "\n",
    "@check_cache\n",
    "def get_url(src, dest):    \n",
    "    # Get the data using the urlopen function\n",
    "    response = urlopen(src) \n",
    "    filedata = response.read().decode('utf-8')\n",
    "     \n",
    "    # Extract the part of the dest(ination) that is *not*\n",
    "    # the actual filename--have a look at how \n",
    "    # os.path.split works using `help(os.path.split)`\n",
    "    path = list(os.path.split(dest)[:-1])\n",
    "     \n",
    "    # Create any missing directories in dest(ination) path\n",
    "    # -- os.path.join is the reverse of split (as you saw above)\n",
    "    # but it doesn't work with lists... so I had to google how \n",
    "    # to use the 'splat' operator! os.makedirs creates missing \n",
    "    # directories in a path automatically.\n",
    "    if len(path) >= 1 and path[0] != '':\n",
    "        os.makedirs(os.path.join(*path), exist_ok=True)\n",
    "     \n",
    "    with open(dest, 'w') as f:\n",
    "        f.write(filedata)\n",
    "         \n",
    "    print(f\"Data written to {dest}!\")\n",
    "    \n",
    "    return dest\n",
    "        \n",
    "# Using the `return contents` line we make it easy to \n",
    "# see what our function is up to.\n",
    "src = get_url(url, out)"
   ]
  },
  {
   "cell_type": "markdown",
   "id": "01179afd-daab-4c9e-8919-b3f0aec62686",
   "metadata": {},
   "source": [
    "I’m not going to pretend that’s the *best* use of a decorator, but it\n",
    "*does* neatly separate the downloading function from the caching\n",
    "function. In fact, there is already a [cache\n",
    "decorator](https://pvsravanth.medium.com/speeding-up-your-python-code-with-the-cache-decorator-from-functools-bce4731eed69)\n",
    "and some of these have unlimited capacity; however, they are intended to\n",
    "run in a ‘live’ context, so you’d still need to download the file again\n",
    "any time you start a new notebook or restart Docker. This caching\n",
    "function saves the actual data locally to `dest`.\n",
    "\n",
    "> **Stop!**\n",
    ">\n",
    "> It really would be a good idea to put in the effort to make sense of\n",
    "> how this function works. There is a lot going on here and\n",
    "> understanding how this function works will help you to understand how\n",
    "> to code. You should notice that we don’t try to check if the data file\n",
    "> contains any useful data! So if you download or create an empty file\n",
    "> while testing, you won’t necessarily get an error until you try to\n",
    "> turn it into data afterwards!\n",
    "\n",
    "### 3.3 Parse the CSV File\n",
    "\n",
    "> **Difficulty: Low**\n",
    "\n",
    "Now we turn to the next task: parsing the file if it’s a CSV. This\n",
    "implies that it *might* not be so that’s something we should also\n",
    "consider!\n",
    "\n",
    "##### 3.3.0.1 Question"
   ]
  },
  {
   "cell_type": "code",
   "execution_count": 28,
   "id": "c9aa2a9a-f2d6-4326-84cd-717e71f5a098",
   "metadata": {},
   "outputs": [
    {
     "data": {
      "text/plain": [
       "[['City', 'Population', 'Latitude', 'Longitude'],\n",
       " ['Perth', '45770', '56.39583', '-3.43333'],\n",
       " ['Armagh', '14777', '54.3499', '-6.6546'],\n",
       " ['Dundee', '147268', '56.462', '-2.9707'],\n",
       " ['Colchester', '194706', '51.88861', '0.90361'],\n",
       " ['Salisbury', '40302', '51.07', '-1.79'],\n",
       " ['Portsmouth', '205056', '50.80583', '-1.08722'],\n",
       " ['Wakefield', '325837', '53.683', '-1.499'],\n",
       " ['Bradford', '522452', '53.792', '-1.754'],\n",
       " ['Lancaster', '138375', '54.047', '-2.801'],\n",
       " ['Bangor', '18808', '53.228', '-4.128']]"
      ]
     },
     "execution_count": 28,
     "metadata": {},
     "output_type": "execute_result"
    }
   ],
   "source": [
    "import csv\n",
    "\n",
    "def read_csv(src):\n",
    "    \n",
    "    csvdata = []\n",
    "    with open(src, 'r') as f:\n",
    "        csvr = csv.reader(f)\n",
    "        \n",
    "        for r in csvr:\n",
    "            csvdata.append(r)\n",
    "    \n",
    "    # Return list of lists\n",
    "    return csvdata\n",
    "\n",
    "read_csv(src)\n",
    "#read_csv('foo.bar') # <- Notice what happens if you try to run this code\n",
    "#read_csv('Practical-04-Objects-Answers.ipynb') # Or this code!"
   ]
  },
  {
   "cell_type": "markdown",
   "id": "015451e5-ec07-450f-9bbe-a06970c98b6f",
   "metadata": {},
   "source": [
    "You should get:\n",
    "\n",
    "<code> \\[\\[‘City’, ‘Population’, ‘Latitude’, ‘Longitude’\\], \\[‘Perth’,\n",
    "‘45770’, ‘56.39583’, ‘-3.43333’\\], \\[‘Armagh’, ‘14777’, ‘54.3499’,\n",
    "‘-6.6546’\\], \\[‘Dundee’, ‘147268’, ‘56.462’, ‘-2.9707’\\],\n",
    "\\[‘Colchester’, ‘194706’, ‘51.88861’, ‘0.90361’\\], \\[‘Salisbury’,\n",
    "‘40302’, ‘51.07’, ‘-1.79’\\], \\[‘Portsmouth’, ‘205056’, ‘50.80583’,\n",
    "‘-1.08722’\\], \\[‘Wakefield’, ‘325837’, ‘53.683’, ‘-1.499’\\],\n",
    "\\[‘Bradford’, ‘522452’, ‘53.792’, ‘-1.754’\\], \\[‘Lancaster’, ‘138375’,\n",
    "‘54.047’, ‘-2.801’\\], \\[‘Bangor’, ‘18808’, ‘53.228’, ‘-4.128’\\]\\]\n",
    "</code>\n",
    "\n",
    "### 3.4 Convert the CSV into a DoL\n",
    "\n",
    "> **Difficulty: Medium.**\n",
    "\n",
    "Now we can focus on converting the CSV data to a dictionary-of-lists!\n",
    "We’re going to start with the *same* function name but expand what the\n",
    "function *does*. This kind of *iteration* is common in software\n",
    "development.\n",
    "\n",
    "##### 3.4.0.1 Question"
   ]
  },
  {
   "cell_type": "code",
   "execution_count": 30,
   "id": "5d11f793-7120-49f5-933a-bc33ffefcfdc",
   "metadata": {},
   "outputs": [
    {
     "data": {
      "text/plain": [
       "{'City': ['Perth',\n",
       "  'Armagh',\n",
       "  'Dundee',\n",
       "  'Colchester',\n",
       "  'Salisbury',\n",
       "  'Portsmouth',\n",
       "  'Wakefield',\n",
       "  'Bradford',\n",
       "  'Lancaster',\n",
       "  'Bangor'],\n",
       " 'Population': ['45770',\n",
       "  '14777',\n",
       "  '147268',\n",
       "  '194706',\n",
       "  '40302',\n",
       "  '205056',\n",
       "  '325837',\n",
       "  '522452',\n",
       "  '138375',\n",
       "  '18808'],\n",
       " 'Latitude': ['56.39583',\n",
       "  '54.3499',\n",
       "  '56.462',\n",
       "  '51.88861',\n",
       "  '51.07',\n",
       "  '50.80583',\n",
       "  '53.683',\n",
       "  '53.792',\n",
       "  '54.047',\n",
       "  '53.228'],\n",
       " 'Longitude': ['-3.43333',\n",
       "  '-6.6546',\n",
       "  '-2.9707',\n",
       "  '0.90361',\n",
       "  '-1.79',\n",
       "  '-1.08722',\n",
       "  '-1.499',\n",
       "  '-1.754',\n",
       "  '-2.801',\n",
       "  '-4.128']}"
      ]
     },
     "execution_count": 30,
     "metadata": {},
     "output_type": "execute_result"
    }
   ],
   "source": [
    "def read_csv(src):\n",
    "    \n",
    "    csvdata = {} # An empty dictionary-of-lists\n",
    "    \n",
    "    with open(src, 'r') as f:\n",
    "        csvr = csv.reader(f)\n",
    "        \n",
    "        # Read in our column names and\n",
    "        # initialise the dictionary-of-lists\n",
    "        csvcols = next(csvr) \n",
    "        for c in csvcols:\n",
    "            csvdata[c] = []\n",
    "        \n",
    "        # Notice this code is still the same, \n",
    "        # we just used next(csvr) to get the \n",
    "        # header row first!\n",
    "        for r in csvr: \n",
    "            # Although you can often assume that the order \n",
    "            # of the keys is the same, Python doesn't \n",
    "            # guarantee it; this way we will always make\n",
    "            # the correct assignment.\n",
    "            for idx, c in enumerate(csvcols):\n",
    "                csvdata[c].append(r[idx])\n",
    "    \n",
    "    # Return dictionary of lists\n",
    "    return csvdata\n",
    "\n",
    "read_csv(src)"
   ]
  },
  {
   "cell_type": "markdown",
   "id": "1c4cde7a-e27a-42dc-93b6-a1a284d4b028",
   "metadata": {},
   "source": [
    "You should get something that starts:"
   ]
  },
  {
   "cell_type": "code",
   "execution_count": null,
   "id": "ca31555f",
   "metadata": {},
   "outputs": [],
   "source": []
  },
  {
   "cell_type": "markdown",
   "id": "3c1e0a6a-84ff-4477-b25a-4f952f55be54",
   "metadata": {},
   "source": [
    "### 3.5 Adding Docstring\n",
    "\n",
    "> **Difficulty: Low**\n",
    "\n",
    "We’ve assumed that the first row of our data set is always a *header*\n",
    "(i.e. list of column names). If it’s not then this code is going to have\n",
    "problems. A *robust* function would allow us to specify column names,\n",
    "skip rows, etc. when we create the data structure, but let’s not get\n",
    "caught up in that level of detail. Notice that I’ve also, for the first\n",
    "time:\n",
    "\n",
    "1.  Used the docstring support offered by Python. You’ll be able to use\n",
    "    `help(...)` and get back the docstring help!\n",
    "2.  Provided hints to Python about the expected input and output data\n",
    "    types. This can help to ensure consistency and is also critical in\n",
    "    testing / continuous integration when working with others on a\n",
    "    codebase."
   ]
  },
  {
   "cell_type": "code",
   "execution_count": 31,
   "id": "d4dc9960",
   "metadata": {},
   "outputs": [],
   "source": [
    "def read_csv(src:str) -> dict:\n",
    "    \"\"\"\n",
    "    Converts a CSV file to a dictionary-of-lists (dol),\n",
    "    using the first row to create column names.\n",
    "    \n",
    "    param src: a local CSV file\n",
    "    returns: a dictionary-of-lists\n",
    "    \"\"\"\n",
    "    csvdata = {} # An empty dictionary-of-lists\n",
    "    \n",
    "    with open(src, 'r') as f:\n",
    "        csvr = csv.reader(f)\n",
    "        \n",
    "        # Read in our column names and\n",
    "        # initialise the dictionary-of-lists\n",
    "        csvcols = next(csvr) \n",
    "        for c in csvcols:\n",
    "            csvdata[c] = []\n",
    "        \n",
    "        # Notice this code is still the same, \n",
    "        # we just used next(csvr) to get the \n",
    "        # header row first!\n",
    "        for r in csvr: \n",
    "            # Although you can often assume that the order \n",
    "            # of the keys is the same, Python doesn't \n",
    "            # guarantee it; this way we will always make\n",
    "            # the correct assignment.\n",
    "            for idx, c in enumerate(csvcols):\n",
    "                csvdata[c].append(r[idx])\n",
    "    \n",
    "    # Return dictionary of lists\n",
    "    return csvdata\n",
    "\n",
    "ds = read_csv(src)"
   ]
  },
  {
   "cell_type": "code",
   "execution_count": 32,
   "id": "318cfe99",
   "metadata": {},
   "outputs": [
    {
     "name": "stdout",
     "output_type": "stream",
     "text": [
      "Help on function read_csv in module __main__:\n",
      "\n",
      "read_csv(src: str) -> dict\n",
      "    Converts a CSV file to a dictionary-of-lists (dol),\n",
      "    using the first row to create column names.\n",
      "    \n",
      "    param src: a local CSV file\n",
      "    returns: a dictionary-of-lists\n",
      "\n"
     ]
    }
   ],
   "source": [
    "help(read_csv)"
   ]
  },
  {
   "cell_type": "code",
   "execution_count": 33,
   "id": "b312ad9c",
   "metadata": {},
   "outputs": [
    {
     "name": "stdout",
     "output_type": "stream",
     "text": [
      "Columns are: City, Population, Latitude, Longitude\n",
      "First two cities are: ['Perth', 'Armagh']\n",
      "First two populations are: ['45770', '14777']\n",
      "First two latitudes are: ['56.39583', '54.3499']\n"
     ]
    }
   ],
   "source": [
    "print(\"Columns are: \" + \", \".join(ds.keys()))\n",
    "print(f\"First two cities are: {ds['City'][:2]}\")\n",
    "print(f\"First two populations are: {ds['Population'][:2]}\")\n",
    "print(f\"First two latitudes are: {ds['Latitude'][:2]}\")"
   ]
  },
  {
   "cell_type": "markdown",
   "id": "cbf36459-76c1-4ce5-8e75-160c3c99c862",
   "metadata": {},
   "source": [
    "### 3.6 Creating a Package\n",
    "\n",
    "We’re not going to tackle this now, but it’s important that you\n",
    "understand how what we’ve done connects to what we’re *about* to do, and\n",
    "the concept of a package is the bridge. We’ve already covered this in\n",
    "the pre-recorded lectures, but if you want to actually *try* to create\n",
    "your own package, the simplest way to do this is to:\n",
    "\n",
    "1.  Copy the `read_csv` into a new file called, for instance,\n",
    "    `utils.py`.\n",
    "2.  Make sure you delete this function from the current ‘namespace’\n",
    "    (`del(read_csv)`) by which I mean that the `read_csv` function no\n",
    "    longer exists (running `help(read_csv)` should give you an error!).\n",
    "3.  Try importing the function from the file:\n",
    "    `from utils import read_csv` and run the `help(read_csv)` code\n",
    "    again.\n",
    "\n",
    "Assuming that you’ve done everything correctly, we’ve now brought in\n",
    "code from another file without having to write it into our main Python\n",
    "script file. In Python, many of the most complex libraries are spread\n",
    "across the equivalent of *many* `utils.py` files, but on top of *that*\n",
    "when we import and run them they are also creating objects from classes\n",
    "defined in those files.\n",
    "\n",
    "What we now want to do is use a fairly simple example using different\n",
    "‘shapes’ (pyramids, cubes, etc.) that allow us to explore how classes\n",
    "work through inheritance from parents and can extend of overwrite the\n",
    "functionality provided by the parent class. We’ll need this\n",
    "understanding in order to grasp how Pandas and GeoPandas work\n",
    "specifically, but also how Python works more generally.\n",
    "\n",
    "## 4. Classes and Inheritance\n",
    "\n",
    "So, in the immortal words of Monty Python…\n",
    "\n",
    "<figure>\n",
    "<img src=\"attachment:./img/completely_different.png\"\n",
    "alt=\"And now for something completely different\" />\n",
    "<figcaption aria-hidden=\"true\">And now for something completely\n",
    "different</figcaption>\n",
    "</figure>\n",
    "\n",
    "> **🔗 Connections**\n",
    ">\n",
    "> This will draw on what you’ve learned in the lectures about\n",
    "> <a href=\"\">Methods</a>, <a href=\"\">Classes</a>, and\n",
    "> <a href=\"\">Design</a>. You will also find the Code Camp\n",
    "> [Classes](https://jreades.github.io/code-camp/lessons/Classes.html)\n",
    "> session useful.\n",
    "\n",
    "To repeat myself:\n",
    "\n",
    "> In Python, many of the most complex libraries are spread across the\n",
    "> equivalent of *many* `utils.py` files, but on top of *that* when we\n",
    "> import and run them they are also creating objects from classes\n",
    "> defined in those files.\n",
    ">\n",
    "> What we now want to do is use a fairly simple example using different\n",
    "> ‘shapes’ (pyramids, cubes, etc.) that allow us to explore how classes\n",
    "> work through inheritance from parents and can extend of overwrite the\n",
    "> functionality provided by the parent class. We’ll need this\n",
    "> understanding in order to grasp how Pandas and GeoPandas work\n",
    "> specifically, but also how Python works more generally.\n",
    "\n",
    "> **Difficulty: 🤯.**\n",
    "\n",
    "We want to create a set of ‘shapes’ that allow us to calculate various\n",
    "properties of that shape:\n",
    "\n",
    "-   Diameter: which we’ll define as the longest line that can be drawn\n",
    "    across the inside of the shape.\n",
    "-   Volume: the total volume of the shape.\n",
    "-   Surface Area: the total outside area of the shape.\n",
    "\n",
    "We will create all of these shape classes in the notebook so that we\n",
    "know they work and then will move them to an external package file so\n",
    "that they can be imported and re-used easily in other notebooks.\n",
    "\n",
    "We’re also going to make use of a few features of Python:\n",
    "\n",
    "-   You can access the class name of an instance using:\n",
    "    `self.__class__.__name__`. And here’s one key point: `self` refers\n",
    "    to the specific instance (to *this* particular shape that I’ve\n",
    "    created), not to the class in general (to *all* shapes of the same,\n",
    "    er, shape)… we’ll see why this matters.\n",
    "-   You can raise your own exceptions easily if you don’t want to\n",
    "    implement a particular method yet. This is giving you control over\n",
    "    how your code behaves when something goes ‘wrong’ – as we’ve covered\n",
    "    elsewhere sometimes an error is ‘expected’ and we want to handle the\n",
    "    *exception*, other times it is ‘unexpected’ and we’re going to let\n",
    "    Python fail so that the user knows something is seriously wrong.\n",
    "-   You can have an ‘abstract’ base class that does nothing except\n",
    "    provide a template for the ‘real’ classes so that different types of\n",
    "    shapes can be used interchangeably. This is quite an advanced\n",
    "    feature, but it gives our script a lot more flexibility: we don’t\n",
    "    need to worry about whether we’re working with a sphere, cube, or\n",
    "    pyramid (or a spatial or non-spatial data set) because they are\n",
    "    defined in a way that allows this flexibility.\n",
    "\n",
    "### 4.1 Abstract Base Class\n",
    "\n",
    "This class appears to do very little, but there are two things to\n",
    "notice:\n",
    "\n",
    "1.  It provides a constructor (`__init__`) that sets the `shape_type` to\n",
    "    the name of the class automatically (so a `square` object has\n",
    "    `shape_type='Square'`) and it stores the critical dimension of the\n",
    "    shape in `self.dim`.\n",
    "2.  It provides methods (which only raise exceptions) that will allow\n",
    "    one shape to be used in the place of any other shape that inherits\n",
    "    from `shape`."
   ]
  },
  {
   "cell_type": "code",
   "execution_count": 34,
   "id": "64fa16a4",
   "metadata": {},
   "outputs": [],
   "source": [
    "# Base class shape\n",
    "class shape(object): # Inherit from base class \n",
    "    def __init__(self, dimension:float=None):\n",
    "        self.shape_type = self.__class__.__name__.capitalize()\n",
    "        self.dim = dimension\n",
    "        return\n",
    "    \n",
    "    def diameter(self):\n",
    "        raise Exception(\"Unimplmented method error.\")\n",
    "    \n",
    "    def volume(self):\n",
    "        raise Exception(\"Unimplmented method error.\")\n",
    "    \n",
    "    def surface(self):\n",
    "        raise Exception(\"Unimplmented method error.\")\n",
    "        \n",
    "    def type(self):\n",
    "        return(self.shape_type)"
   ]
  },
  {
   "cell_type": "markdown",
   "id": "893e6295-0da8-4c12-9dde-d113eeb67e19",
   "metadata": {},
   "source": [
    "We can now create a new shape object (an *instance* of the shape class)\n",
    "but we can’t do much that is useful with it:"
   ]
  },
  {
   "cell_type": "code",
   "execution_count": 35,
   "id": "20ffaccc",
   "metadata": {},
   "outputs": [
    {
     "name": "stdout",
     "output_type": "stream",
     "text": [
      "I am a Shape\n",
      "Error: Unimplmented method error.\n"
     ]
    }
   ],
   "source": [
    "s = shape(15)\n",
    "\n",
    "try: \n",
    "    print(f\"I am a {s.type()}\")\n",
    "    print(f\"My volume is {s.volume()}\")\n",
    "except Exception as e:\n",
    "    print(f\"Error: {e}\")"
   ]
  },
  {
   "cell_type": "markdown",
   "id": "d98af8cb-14a6-4ee2-a78f-5aad1c229087",
   "metadata": {},
   "source": [
    "### 4.2 Cube\n",
    "\n",
    "Implements a cube:\n",
    "\n",
    "1.  The diameter of the cube is given by the Pythagorean formula for the\n",
    "    length of the hypotenuse in 3D between opposing corners:\n",
    "    $\\sqrt{d^{2} + d^{2} + d^{2}}$ which we can reduce to\n",
    "    $\\sqrt{3 d^{2}}$.\n",
    "2.  A cube’s volume is given by $d^{3}$.\n",
    "3.  A cube’s surface area will be the sum of its six faces: $6d^{2}$.\n",
    "\n",
    "##### 4.2.0.1 Question\n",
    "\n",
    "Can you work out the missing elements that will allow you to create a\n",
    "cube class?"
   ]
  },
  {
   "cell_type": "code",
   "execution_count": 36,
   "id": "04fb62f9-ffcf-4b6e-84cb-ca62914ac38c",
   "metadata": {},
   "outputs": [
    {
     "name": "stdout",
     "output_type": "stream",
     "text": [
      "I am a Cube\n",
      "My volume is 3375\n"
     ]
    }
   ],
   "source": [
    "# Cube class\n",
    "class cube(shape): # Inherit from shape \n",
    "    def __init__(self, dim:float):\n",
    "        super().__init__(dim)\n",
    "        return\n",
    "    \n",
    "    def diameter(self):\n",
    "        return (3 * self.dim**2)**(1/2)\n",
    "    \n",
    "    def volume(self):\n",
    "        return self.dim**3\n",
    "    \n",
    "    def surface(self):\n",
    "        return 6*(self.dim**2)\n",
    "\n",
    "# If you've done everything correctly then\n",
    "# you will no longer get an error here...\n",
    "s = cube(15)\n",
    "\n",
    "try: \n",
    "    print(f\"I am a {s.type()}\")\n",
    "    print(f\"My volume is {s.volume()}\")\n",
    "except Exception as e:\n",
    "    print(f\"Error: {e}\")"
   ]
  },
  {
   "cell_type": "markdown",
   "id": "f6409bd1-a4a2-4914-9a41-d61817499320",
   "metadata": {},
   "source": [
    "### 4.3 Sphere\n",
    "\n",
    "Implements a sphere:\n",
    "\n",
    "1.  The diameter is twice the critical dimension (radius): $2r$.\n",
    "2.  The volume is $\\frac{4}{3} \\pi r^{3}$.\n",
    "3.  The surface area will be $4 \\pi r^{2}$.\n",
    "\n",
    "If we were writing something more general, we’d probably have spheres as\n",
    "a special case of an ellipsoid!\n",
    "\n",
    "##### 4.3.0.1 Question\n",
    "\n",
    "Can you work out the missing elements that will allow you to create a\n",
    "cube class?"
   ]
  },
  {
   "cell_type": "code",
   "execution_count": 48,
   "id": "efdc1953-e505-4b3e-b666-f7a1357df6c6",
   "metadata": {},
   "outputs": [
    {
     "name": "stdout",
     "output_type": "stream",
     "text": [
      "I am a Sphere\n",
      "My volume is 14137.166941154068\n"
     ]
    }
   ],
   "source": [
    "# Sphere class\n",
    "from math import pi\n",
    "class sphere(shape): # Inherit from shape\n",
    "    def __init__(self, dim:float):\n",
    "        super().__init__(dim)  # 正确调用父类的构造函数\n",
    "\n",
    "    def diameter(self):\n",
    "        return 2*(self.dim)\n",
    "        # Something...\n",
    "\n",
    "    def volume(self):\n",
    "        return (4/3)*pi*(self.dim)**3\n",
    "\n",
    "        # Something\n",
    "\n",
    "    def surface(self):\n",
    "        return 4*pi*(self.dim)\n",
    "        # Something\n",
    "\n",
    "# If you've done everything correctly then\n",
    "# you will no longer get an error here...\n",
    "s = sphere(15)\n",
    "\n",
    "try: \n",
    "    print(f\"I am a {s.type()}\")\n",
    "    print(f\"My volume is {s.volume()}\")\n",
    "except Exception as e:\n",
    "    print(f\"Error: {e}\")"
   ]
  },
  {
   "cell_type": "markdown",
   "id": "71c07cf3-553b-471f-8585-96408eeb1bb6",
   "metadata": {},
   "source": [
    "### 4.4 Regular Pyramid\n",
    "\n",
    "We’re taking this to be a regular pyramid where all sides are equal:\n",
    "\n",
    "1.  The diameter is a line drawn across the base between opposing\n",
    "    corners of the base so it’s just $\\sqrt{d^{2} + d^{2}}$.\n",
    "2.  The volume is given by $V = b * h / 3$ (where $b$ is the area of the\n",
    "    base, which in this case becomes $d^{2} * h/3$).\n",
    "3.  The surface area will be the base + 4 equilateral triangles:\n",
    "    $d^{2} + 4 (d^{2}\\sqrt{3}/4)$ which we can reduce to\n",
    "    $d^{2} + d^{2}\\sqrt{3}$\n",
    "\n",
    "But this requires a *height* method that is specific to pyramids:\n",
    "\n",
    "1.  The height is taken from the centre of the pyramid (which will be\n",
    "    half the length of the hypotenuse for two edges):\n",
    "    $l = \\sqrt{d{^2} + d^{2}}$ and the long side ($d$ again) which gives\n",
    "    us $\\sqrt{l/2 + d^{2}}$.\n",
    "\n",
    "> **Class Variables**\n",
    ">\n",
    "> Note that this has a **class variable** called `has_mummies` since\n",
    "> Egyptian regular pyramids are plagued by them! This class variable is\n",
    "> set automatically for *all* instances of the `pyramid` class. Changing\n",
    "> this variable can have weird effects so they’re not *often* changed."
   ]
  },
  {
   "cell_type": "code",
   "execution_count": 49,
   "id": "1bba40d5",
   "metadata": {},
   "outputs": [],
   "source": [
    "# Pyramid class\n",
    "class pyramid(shape): # Inherit from shape\n",
    "\n",
    "    has_mummies = True # This is for *all* regular pyramids\n",
    "\n",
    "    def __init__(self, dim:float):\n",
    "        super().__init__(dim)\n",
    "        self.shape_type = 'Regular Pyramid'\n",
    "        return\n",
    "\n",
    "    def diameter(self):\n",
    "        return (self.dim**2 + self.dim**2)**(1/2)\n",
    "\n",
    "    def height(self):\n",
    "        return (self.diameter()/2 + self.dim**2)**(1/2)\n",
    "\n",
    "    def volume(self):\n",
    "        return self.dim**2 * self.height() / 3\n",
    "\n",
    "    def surface(self):\n",
    "        return self.dim**2 + self.dim**2 * 3**(1/2)"
   ]
  },
  {
   "cell_type": "markdown",
   "id": "abbf4dde-b6ca-4119-b784-11bf35347be2",
   "metadata": {},
   "source": [
    "### 4.5 Triangular Pyramid\n",
    "\n",
    "We have chosen for triangular pyramid to *inherit* from regular pyramid.\n",
    "However, this is kind of a judgement call since there’s very little\n",
    "shared between the two types of pyramid and it’s arguable whether this\n",
    "one is actually simpler and should therefore be the parent class…\n",
    "\n",
    "Just to note, as well, that since all sides are equal this is an\n",
    "*equilateral* triangular pyramid. Anyway, the calculations are:\n",
    "\n",
    "1.  The diameter (longest line through the shape) will just be the edge:\n",
    "    $d$.\n",
    "2.  The volume $V = b * h / 3$ where $b$ is the area of an equilateral\n",
    "    triangle.\n",
    "3.  The surface area will be $4b$ where $b$ is the area of an\n",
    "    equilateral triangle.\n",
    "\n",
    "So we now need two new formulas:\n",
    "\n",
    "1.  The height of the pyramid using ([Pythagoras\n",
    "    again](https://www.youtube.com/watch?v=ivF3ndmkMsE)):\n",
    "    $h = \\sqrt{6}d/3$.\n",
    "2.  The area of an equilateral triangle: $\\frac{\\sqrt{3}}{4} d^{2}$\n",
    "\n",
    "Triangular pyramids do *not* have a problem with mummies.\n",
    "\n",
    "Why don’t you add some documentation to this class and the regular\n",
    "pyramid class so that we know how to use them correctly?"
   ]
  },
  {
   "cell_type": "code",
   "execution_count": 50,
   "id": "2e05ab13",
   "metadata": {},
   "outputs": [],
   "source": [
    "# Triangular Pyramid class\n",
    "class t_pyramid(pyramid): # Inherit from regular pyramid\n",
    "\n",
    "    has_mummies = False # This is for all triangular pyramids\n",
    "\n",
    "    def __init__(self, dim:float):\n",
    "        super().__init__(dim)\n",
    "        self.shape_type = 'Triangular Pyramid'\n",
    "        return\n",
    "\n",
    "    def diameter(self):\n",
    "        return self.dim\n",
    "\n",
    "    def height(self):\n",
    "        # h = sqrt(6)/3 * d\n",
    "        return 6**(1/2)/3 * self.dim\n",
    "\n",
    "    def base(self):\n",
    "        return 3**(1/2)/4 * self.dim**2\n",
    "\n",
    "    def volume(self):\n",
    "        return (1/3) * self.base() * self.height()\n",
    "\n",
    "    def surface(self):\n",
    "        return 4 * self.base()"
   ]
  },
  {
   "cell_type": "markdown",
   "id": "f5209e97-84e1-440c-b6cb-8e8eed8e20ba",
   "metadata": {},
   "source": [
    "### 4.6 Testing Your Classes\n",
    "\n",
    "If you’ve implemented everything correctly then the following code\n",
    "should run.\n",
    "\n",
    "``` python\n",
    "# How would you test these changes?\n",
    "s = sphere(10)\n",
    "print(s.type())\n",
    "print(f\"\\tVolume is: {s.volume():5.2f}\")\n",
    "print(f\"\\tDiameter is: {s.diameter():5.2f}\")\n",
    "print(f\"\\tSurface Area is: {s.surface():5.2f}\")\n",
    "print(\"\")\n",
    "\n",
    "c = cube(10)\n",
    "print(c.type())\n",
    "print(f\"\\tVolume is: {c.volume():5.2f}\")\n",
    "print(f\"\\tDiameter is: {c.diameter():5.2f}\")\n",
    "print(f\"\\tSurface Area is: {c.surface():5.2f}\")\n",
    "print(\"\")\n",
    "\n",
    "p = pyramid(10)\n",
    "print(p.type())\n",
    "print(f\"\\tVolume is: {p.volume():5.2f}\")\n",
    "print(f\"\\tDiameter is: {p.diameter():5.2f}\")\n",
    "print(f\"\\tSurface Area is: {p.surface():5.2f}\")\n",
    "print(f\"\\tHeight is: {p.height():5.2f}\")\n",
    "if p.has_mummies is True:\n",
    "    print(\"\\tMummies? Aaaaaaaaargh!\")\n",
    "else:\n",
    "    print(\"\\tPhew, no mummies!\")\n",
    "print(\"\")\n",
    "\n",
    "p2 = t_pyramid(10)\n",
    "print(p2.type())\n",
    "print(f\"\\tVolume is: {p2.volume():5.2f}\")\n",
    "print(f\"\\tDiameter is: {p2.diameter():5.2f}\")\n",
    "print(f\"\\tSurface Area is: {p2.surface():5.2f}\")\n",
    "print(f\"\\tHeight is: {p2.height():5.2f}\")\n",
    "if p2.has_mummies is True:\n",
    "    print(\"\\tMummies? Aaaaaaaaargh!\")\n",
    "else:\n",
    "    print(\"\\tPhew, no mummies!\")\n",
    "print(\"\")\n",
    "\n",
    "# Useful demonstration of how to find out if a method or attribute is\n",
    "# associated with a particular object\n",
    "if hasattr(p2,'base_area'):\n",
    "    print(f\"Shape of type '{p2.type()}' has attribute or method 'base_area'\")\n",
    "else:\n",
    "    print(f\"Shape of type '{p2.type()}' does *not* have attribute or method 'base_area'\")\n",
    "print(\"\")\n",
    "```\n",
    "\n",
    "I get the following output:"
   ]
  },
  {
   "cell_type": "code",
   "execution_count": 51,
   "id": "f6af77e3",
   "metadata": {},
   "outputs": [
    {
     "name": "stdout",
     "output_type": "stream",
     "text": [
      "Sphere\n",
      "\tVolume is: 4188.79\n",
      "\tDiameter is: 20.00\n",
      "\tSurface Area is: 125.66\n",
      "\n",
      "Cube\n",
      "\tVolume is: 1000.00\n",
      "\tDiameter is: 17.32\n",
      "\tSurface Area is: 50.00\n",
      "\n",
      "Regular Pyramid\n",
      "\tVolume is: 344.92\n",
      "\tDiameter is: 14.14\n",
      "\tSurface Area is: 273.21\n",
      "\tHeight is: 10.35\n",
      "\tMummies? Aaaaaaaaargh!\n",
      "\n",
      "Triangular Pyramid\n",
      "\tVolume is: 117.85\n",
      "\tDiameter is: 10.00\n",
      "\tSurface Area is: 173.21\n",
      "\tHeight is:  8.16\n",
      "\tPhew, no mummies!\n",
      "\n",
      "Shape of type 'Triangular Pyramid' does *not* have attribute or method 'base_area'\n",
      "\n"
     ]
    }
   ],
   "source": [
    "# How would you test these changes?\n",
    "s = sphere(10)\n",
    "print(s.type())\n",
    "print(f\"\\tVolume is: {s.volume():5.2f}\")\n",
    "print(f\"\\tDiameter is: {s.diameter():5.2f}\")\n",
    "print(f\"\\tSurface Area is: {s.surface():5.2f}\")\n",
    "print(\"\")\n",
    "\n",
    "c = cube(10)\n",
    "print(c.type())\n",
    "print(f\"\\tVolume is: {c.volume():5.2f}\")\n",
    "print(f\"\\tDiameter is: {c.diameter():5.2f}\")\n",
    "print(f\"\\tSurface Area is: {c.surface():5.2f}\")\n",
    "print(\"\")\n",
    "\n",
    "p = pyramid(10)\n",
    "print(p.type())\n",
    "print(f\"\\tVolume is: {p.volume():5.2f}\")\n",
    "print(f\"\\tDiameter is: {p.diameter():5.2f}\")\n",
    "print(f\"\\tSurface Area is: {p.surface():5.2f}\")\n",
    "print(f\"\\tHeight is: {p.height():5.2f}\")\n",
    "if p.has_mummies is True:\n",
    "    print(\"\\tMummies? Aaaaaaaaargh!\")\n",
    "else:\n",
    "    print(\"\\tPhew, no mummies!\")\n",
    "print(\"\")\n",
    "\n",
    "p2 = t_pyramid(10)\n",
    "print(p2.type())\n",
    "print(f\"\\tVolume is: {p2.volume():5.2f}\")\n",
    "print(f\"\\tDiameter is: {p2.diameter():5.2f}\")\n",
    "print(f\"\\tSurface Area is: {p2.surface():5.2f}\")\n",
    "print(f\"\\tHeight is: {p2.height():5.2f}\")\n",
    "if p2.has_mummies is True:\n",
    "    print(\"\\tMummies? Aaaaaaaaargh!\")\n",
    "else:\n",
    "    print(\"\\tPhew, no mummies!\")\n",
    "print(\"\")\n",
    "\n",
    "# Useful demonstration of how to find out if a method or attribute is\n",
    "# associated with a particular object\n",
    "if hasattr(p2,'base_area'):\n",
    "    print(f\"Shape of type '{p2.type()}' has attribute or method 'base_area'\")\n",
    "else:\n",
    "    print(f\"Shape of type '{p2.type()}' does *not* have attribute or method 'base_area'\")\n",
    "print(\"\")\n",
    "\n"
   ]
  },
  {
   "cell_type": "markdown",
   "id": "92b61389-cece-444b-9bc1-debf1ae25e8d",
   "metadata": {},
   "source": [
    "### 4.7 Packaging It Up\n",
    "\n",
    "Wait, you’re *still* working on this practical and haven’t thrown up\n",
    "your hands in disgust yet? OK, in that case you can have *one* more\n",
    "thing to do: turn all the shapes into a package that can be loaded via\n",
    "an `import` statement.\n",
    "\n",
    "#### 4.7.1 Cell Magic\n",
    "\n",
    "This code allows Jupyter to reload external libraries if they are edited\n",
    "after you import them. When you are working on your own packages this is\n",
    "rather useful since you tend to make a *lot* of mistakes when packaging\n",
    "code up this way and it’s handy not to have to restart the entire\n",
    "notebook every time you fix a typo or change a function.\n",
    "\n",
    "``` python\n",
    "%load_ext autoreload\n",
    "%autoreload 2\n",
    "```\n",
    "\n",
    "#### 4.7.2 Import Shapes\n",
    "\n",
    "My suggestion is that you create a directory called `shapes` and copy\n",
    "all of the shape code (that’s the code for `shape`, `cube`, `sphere`,\n",
    "`pyramid`, `tpyramid`) into a file called `__init__.py` inside the\n",
    "`shapes` directory. You should then able to run the following:\n",
    "\n",
    "``` python\n",
    "for s in ['shape','sphere','cube','pyramid','t_pyramid']:\n",
    "    if s in locals():\n",
    "        del(s)\n",
    "from shapes import *\n",
    "```\n",
    "\n",
    "We need those first three lines of code to delete the existing classes\n",
    "from Python’s ‘memory’ so that we can be sure we’re importing the\n",
    "versions we saved to `shapes/__init__.py`.\n",
    "\n",
    "#### 4.7.3 Adding Documentation\n",
    "\n",
    "In an ideal world, this would also be the time to properly document your\n",
    "classes and methods. Here as some examples that you could add to the\n",
    "`__init__.py` package file.\n",
    "\n",
    "Underneath the line `class shape(object):`, add:\n",
    "\n",
    "``` python\n",
    "    \"\"\"Abstract base class for all ideal shape classes.\n",
    "\n",
    "    Keyword arguments:\n",
    "    dimension -- the principle dimension of the shape (default None)\n",
    "    \"\"\"\n",
    "```\n",
    "\n",
    "Underneath the line `def type(self):`, add:\n",
    "\n",
    "``` python\n",
    "        \"\"\"\n",
    "        Returns the formatted name of the shape type. \n",
    "        \n",
    "        This is set automatically, but can be overwritten by setting the attribute shape_type.\n",
    "        \n",
    "        :returns: the name of the class, so shapes.cube is a `Cube` shape type\n",
    "        :rtype: str\n",
    "        \"\"\"\n",
    "```\n",
    "\n",
    "This would then allow you to run:\n",
    "\n",
    "``` python\n",
    "from shapes import * # <-- Change this if you didn't call your package `shapes`!\n",
    "help(shape)\n",
    "help(shape.type)\n",
    "```"
   ]
  },
  {
   "cell_type": "code",
   "execution_count": null,
   "id": "4bf37515",
   "metadata": {},
   "outputs": [],
   "source": [
    "%load_ext autoreload\n",
    "%autoreload 2"
   ]
  },
  {
   "cell_type": "code",
   "execution_count": 1,
   "id": "01580504",
   "metadata": {},
   "outputs": [
    {
     "name": "stdout",
     "output_type": "stream",
     "text": [
      "Help on class shape in module shape:\n",
      "\n",
      "class shape(builtins.object)\n",
      " |  shape(dimension: float = None)\n",
      " |  \n",
      " |  Methods defined here:\n",
      " |  \n",
      " |  __init__(self, dimension: float = None)\n",
      " |      Initialize self.  See help(type(self)) for accurate signature.\n",
      " |  \n",
      " |  diameter(self)\n",
      " |  \n",
      " |  surface(self)\n",
      " |  \n",
      " |  type(self)\n",
      " |  \n",
      " |  volume(self)\n",
      " |  \n",
      " |  ----------------------------------------------------------------------\n",
      " |  Data descriptors defined here:\n",
      " |  \n",
      " |  __dict__\n",
      " |      dictionary for instance variables (if defined)\n",
      " |  \n",
      " |  __weakref__\n",
      " |      list of weak references to the object (if defined)\n",
      "\n",
      "Help on function type in module shape:\n",
      "\n",
      "type(self)\n",
      "\n"
     ]
    }
   ],
   "source": [
    "from shape import * # <-- Change this if you didn't call your package `shapes`!\n",
    "help(shape)\n",
    "help(shape.type)"
   ]
  }
 ],
 "metadata": {
  "kernelspec": {
   "display_name": "dd",
   "language": "python",
   "name": "python3"
  },
  "language_info": {
   "codemirror_mode": {
    "name": "ipython",
    "version": 3
   },
   "file_extension": ".py",
   "mimetype": "text/x-python",
   "name": "python",
   "nbconvert_exporter": "python",
   "pygments_lexer": "ipython3",
   "version": "3.10.9"
  }
 },
 "nbformat": 4,
 "nbformat_minor": 5
}
